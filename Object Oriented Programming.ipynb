{
 "cells": [
  {
   "cell_type": "markdown",
   "metadata": {},
   "source": [
    "<h3 align=\"center\"><b>Object Oriented Programming (OOPs)</h3>\n",
    " "
   ]
  },
  {
   "cell_type": "markdown",
   "metadata": {},
   "source": [
    "***"
   ]
  },
  {
   "cell_type": "markdown",
   "metadata": {},
   "source": [
    "<p style=\"padding-left:75px;color:blue;font-size:16px;font-weight:bolder;\">What is OOPs?</p>\n",
    "\n",
    "<p style=\"padding-left:95px;color:black;font-size:15px;font-weight:bold;padding-right:180px;\">In real-world, we can find many objects around us, cars, dogs, humans, etc. All these objects have a state and a behavior.</p>\n",
    "\n",
    "<p style=\"padding-left:95px;color:black;font-size:15px;font-weight:bold;padding-right:180px;\">If we take a dog, Its state is - name, color and the behavior is - barking, running.</p>\n",
    "\n",
    "<p style=\"padding-left:95px;color:black;font-size:15px;font-weight:bold;padding-right:180px;\">If you compare the software object with a real-world object, they have very similar characteristics.</p>\n",
    "\n",
    "<p style=\"padding-left:95px;color:black;font-size:15px;font-weight:bold;padding-right:180px;\">Software objects also have a state and a behavior. A software object's state is stored in variable and behavior means methods.</p>\n",
    "\n",
    " <p style=\"padding-left:95px;color:black;font-size:15px;font-weight:bold;padding-right:180px;\">Object-oriented programming (OOP) is a programming paradigm<br>based on the concept of \"objects\".</p>\n",
    " \n",
    " <p style=\"padding-left:95px;color:black;font-size:15px;font-weight:bold;padding-right:180px;\"> Python is an object-oriented programming language.</p>\n",
    "\n"
   ]
  },
  {
   "cell_type": "markdown",
   "metadata": {},
   "source": [
    "***"
   ]
  },
  {
   "cell_type": "markdown",
   "metadata": {},
   "source": [
    "<p style=\"padding-left:75px;color:blue;font-size:16px;font-weight:bolder;\">What is Object?</p>\n",
    "<p style=\"padding-left:95px;color:black;font-size:15px;font-weight:bold;padding-right:180px;\">Object is consider as Real-World object.<br><br> Real-world objects have two characteristics: <br>They all have state and behavior. \n",
    "</p>\n",
    "<p style=\"padding-left:95px;color:red;font-size:14px;font-weight:bold;padding-right:180px;\">For Example:</p>\n",
    "<p style=\"padding-left:95px;color:black;font-size:15px;font-weight:bold;padding-right:180px;\">A dog has states(Attributes) - color, name<br> Behaviors(Methods) – barking, running.</p> \n",
    "<p style=\"padding-left:95px;color:black;font-size:15px;font-weight:lightbold;padding-right:180px;\">In Python, Everything is an object, and almost everything has attributes and methods.</p>\n"
   ]
  },
  {
   "cell_type": "markdown",
   "metadata": {},
   "source": [
    "<p style=\"padding-left:75px;color:blue;font-size:16px;font-weight:bolder;\">What is Class?</p>\n",
    "\n",
    "<p style=\"padding-left:95px;color:black;font-size:15px;font-weight:bold;padding-right:180px;\">In the real world, Many individual objects all of the same kind.</p>\n",
    "<p style=\"padding-left:95px;color:red;font-size:15px;font-weight:bold;padding-right:180px;\">For Example:</p>\n",
    " <p style=\"padding-left:95px;color:black;font-size:15px;font-weight:bold;padding-right:180px;\">All dogs has color and barking. So we can easily classified.</p>"
   ]
  },
  {
   "cell_type": "markdown",
   "metadata": {},
   "source": [
    "***"
   ]
  },
  {
   "cell_type": "markdown",
   "metadata": {},
   "source": [
    "<p style=\"padding-left:75px;color:blue;font-size:14px;font-weight:bolder;\">How To create Class?</p>\n",
    "<p style=\"padding-left:75px;color:black;font-size:15px;font-weight:lightbold;\">Here Create Class with Data only</p>"
   ]
  },
  {
   "cell_type": "code",
   "execution_count": 1,
   "metadata": {},
   "outputs": [
    {
     "name": "stdout",
     "output_type": "stream",
     "text": [
      "black\n"
     ]
    }
   ],
   "source": [
    "class dog:\n",
    "    color = 'black'\n",
    "    name = 'puppy'\n",
    "    \n",
    "print(dog.color)"
   ]
  },
  {
   "cell_type": "code",
   "execution_count": null,
   "metadata": {},
   "outputs": [],
   "source": []
  }
 ],
 "metadata": {
  "kernelspec": {
   "display_name": "Python 3",
   "language": "python",
   "name": "python3"
  },
  "language_info": {
   "codemirror_mode": {
    "name": "ipython",
    "version": 3
   },
   "file_extension": ".py",
   "mimetype": "text/x-python",
   "name": "python",
   "nbconvert_exporter": "python",
   "pygments_lexer": "ipython3",
   "version": "3.6.9"
  }
 },
 "nbformat": 4,
 "nbformat_minor": 2
}
