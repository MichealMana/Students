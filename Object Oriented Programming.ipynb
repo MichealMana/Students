{
 "cells": [
  {
   "cell_type": "markdown",
   "metadata": {},
   "source": [
    "<h3 align=\"center\"><b>Object Oriented Programming (OOPs)</h3>"
   ]
  },
  {
   "cell_type": "markdown",
   "metadata": {},
   "source": [
    "***"
   ]
  },
  {
   "cell_type": "markdown",
   "metadata": {},
   "source": [
    "<p style=\"padding-left:75px;color:blue;font-size:17px;font-weight:bolder;\">What is OOPs?</p>\n",
    "\n",
    "<p style=\"padding-left:95px;color:brown;font-size:15px;font-weight:bolder;padding-right:150px;\">In real-world, we can find many objects around us, cars, dogs, humans, etc. All these objects have a state and a behavior.</p>\n",
    "\n",
    "<p style=\"padding-left:95px;color:brown;font-size:15px;font-weight:bolder;padding-right:150px;\">If we take a car, Its state is - name, color and the behavior is - speed.</p>\n",
    "\n",
    "<p style=\"padding-left:95px;color:brown;font-size:15px;font-weight:bolder;padding-right:150px;\">If you compare the software object with a real-world object, they have very similar characteristics.</p>\n",
    "\n",
    "<p style=\"padding-left:95px;color:brown;font-size:15px;font-weight:bolder;padding-right:150px;\">Software objects also have a state and a behavior. A software object's state is stored in variable and behavior means methods.</p>\n",
    "\n",
    " <p style=\"padding-left:95px;color:brown;font-size:15px;font-weight:bolder;padding-right:150px;\">Object-oriented programming (OOP) is a programming paradigm based on the concept of \"objects\".</p>\n",
    " \n",
    "<p style=\"padding-left:95px;color:brown;font-size:15px;font-weight:bolder;padding-right:150px;\">Python is an object-oriented programming language.</p>\n",
    "\n"
   ]
  },
  {
   "cell_type": "markdown",
   "metadata": {},
   "source": [
    "***"
   ]
  },
  {
   "cell_type": "markdown",
   "metadata": {},
   "source": [
    "<p style=\"padding-left:75px;color:blue;font-size:17px;font-weight:bolder;\">What are the classes and Objects?</p>\n",
    "<img src=\"object.png\" height=\"450\" width=\"450\" align=\"center\">\n",
    "\n",
    "<p style=\"padding-left:95px;color:black;font-size:15px;font-weight:bolder;\">1. Classes refer to the collection of objects. <br><br>2. Objects can be the real world entities such as a car, bike, truck etc.<br><br>3. All these entities have something common in between and that is they all are vehicles.</p><br>\n",
    "<p style=\"padding-left:95px;color:red;font-size:14px;font-weight:bolder;\">So we can merge them by a one-word category called as vehicles.\n",
    "<br>In programming, we can use car as a class and three different branded cars as its object.</p>\n"
   ]
  },
  {
   "cell_type": "markdown",
   "metadata": {},
   "source": [
    "***"
   ]
  },
  {
   "cell_type": "markdown",
   "metadata": {},
   "source": [
    "<p style=\"padding-left:75px;color:blue;font-size:16px;font-weight:bolder;\">What is Object?</p>\n",
    "\n",
    "\n",
    "<p style=\"padding-left:95px;color:black;font-size:16px;font-weight:bold;padding-right:180px;\">Object is consider as Real-World object.<br><br> Real-World objects have two characteristics: <br>1. State<br>2. Behavior. \n",
    "</p>\n",
    "<p style=\"padding-left:95px;color:black;font-size:16px;font-weight:bold;padding-right:180px;\">Objects are an encapsulation of variables and functions into a single entity. Objects get their variables and functions from classes.</p>\n",
    "<p style=\"padding-left:95px;color:red;font-size:14px;font-weight:bold;padding-right:180px;\">For Example:</p>\n",
    "<p style=\"padding-left:95px;color:black;font-size:15px;font-weight:bold;padding-right:180px;\">A Car has: <br>States(Attributes) - color, name.<br> Behaviors(Methods) – speed.</p> <br>\n",
    "<p style=\"padding-left:95px;color:red;font-size:15px;font-weight:bold;padding-right:180px;\">In Python, Everything is an object, and almost everything has attributes and methods.</p>\n"
   ]
  },
  {
   "cell_type": "markdown",
   "metadata": {},
   "source": [
    "<p style=\"padding-left:75px;color:blue;font-size:16px;font-weight:bolder;\">What is Class?</p>\n",
    "\n",
    "<p style=\"padding-left:95px;color:black;font-size:15px;font-weight:bold;padding-right:180px;\">In the real world, Many individual objects all of the same kind.</p>\n",
    "<p style=\"padding-left:95px;color:black;font-size:15px;font-weight:bold;padding-right:180px;\">1. Classes are essentially a template to create your objects.<br> 2. Class is collection of objects.</p>\n",
    "<br>\n",
    "<p style=\"padding-left:95px;color:red;font-size:14px;font-weight:bold;padding-right:180px;\">For Example:</p>\n",
    " <p style=\"padding-left:95px;color:black;font-size:15px;font-weight:bold;padding-right:180px;\">All car has color and speed. So we can easily classified.</p>"
   ]
  },
  {
   "cell_type": "markdown",
   "metadata": {},
   "source": [
    "***"
   ]
  },
  {
   "cell_type": "markdown",
   "metadata": {},
   "source": [
    "<p style=\"padding-left:75px;color:blue;font-size:14px;font-weight:bolder;\">How To create Class?</p>"
   ]
  },
  {
   "cell_type": "code",
   "execution_count": 2,
   "metadata": {},
   "outputs": [],
   "source": [
    "class dog:\n",
    "    pass"
   ]
  },
  {
   "cell_type": "markdown",
   "metadata": {},
   "source": [
    "&nbsp;"
   ]
  },
  {
   "cell_type": "markdown",
   "metadata": {},
   "source": [
    "<p style=\"padding-left:75px;color:blue;font-size:14px;font-weight:bolder;\">How To create Class With Data Only?</p>\n",
    "<p style=\"padding-left:75px;color:black;font-size:15px;font-weight:lightbold;\">Here Create Class with Data only</p>"
   ]
  },
  {
   "cell_type": "code",
   "execution_count": 4,
   "metadata": {},
   "outputs": [
    {
     "name": "stdout",
     "output_type": "stream",
     "text": [
      "black\n"
     ]
    }
   ],
   "source": [
    "class dog:\n",
    "    color = 'black'\n",
    "    name = 'puppy'\n",
    "    \n",
    "print(dog.color)"
   ]
  },
  {
   "cell_type": "markdown",
   "metadata": {},
   "source": [
    "<p style=\"padding-left:75px;color:blue;font-size:14px;font-weight:bolder;\">How To create Class With Method Only?</p>\n",
    "<p style=\"padding-left:75px;color:black;font-size:15px;font-weight:lightbold;\">Here Create Class with Method only</p>"
   ]
  },
  {
   "cell_type": "code",
   "execution_count": 8,
   "metadata": {},
   "outputs": [
    {
     "name": "stdout",
     "output_type": "stream",
     "text": [
      "Wow Wow Wow Wow Wow ..."
     ]
    }
   ],
   "source": [
    "class dog:\n",
    "    def barking():\n",
    "        print('Wow '*5, end = '...')\n",
    "\n",
    "dog.barking()"
   ]
  },
  {
   "cell_type": "markdown",
   "metadata": {},
   "source": [
    "<p style=\"padding-left:75px;color:blue;font-size:16px;font-weight:bolder;\">What is self?</p>"
   ]
  },
  {
   "cell_type": "code",
   "execution_count": 16,
   "metadata": {},
   "outputs": [],
   "source": [
    "import colorama"
   ]
  },
  {
   "cell_type": "code",
   "execution_count": 17,
   "metadata": {},
   "outputs": [
    {
     "name": "stdout",
     "output_type": "stream",
     "text": [
      "<module 'colorama' from '/home/mana/.local/lib/python3.6/site-packages/colorama/__init__.py'>\n"
     ]
    }
   ],
   "source": [
    "print(colorama)"
   ]
  },
  {
   "cell_type": "code",
   "execution_count": 20,
   "metadata": {},
   "outputs": [
    {
     "ename": "SyntaxError",
     "evalue": "invalid syntax (<ipython-input-20-97e0309631e0>, line 1)",
     "output_type": "error",
     "traceback": [
      "\u001b[0;36m  File \u001b[0;32m\"<ipython-input-20-97e0309631e0>\"\u001b[0;36m, line \u001b[0;32m1\u001b[0m\n\u001b[0;31m    cd /home/mana/.local/lib/python3.6/site-packages/colorama\u001b[0m\n\u001b[0m                  ^\u001b[0m\n\u001b[0;31mSyntaxError\u001b[0m\u001b[0;31m:\u001b[0m invalid syntax\n"
     ]
    }
   ],
   "source": [
    "cd /home/mana/.local/lib/python3.6/site-packages/colorama\n"
   ]
  },
  {
   "cell_type": "code",
   "execution_count": null,
   "metadata": {},
   "outputs": [],
   "source": []
  }
 ],
 "metadata": {
  "kernelspec": {
   "display_name": "Python 3",
   "language": "python",
   "name": "python3"
  },
  "language_info": {
   "codemirror_mode": {
    "name": "ipython",
    "version": 3
   },
   "file_extension": ".py",
   "mimetype": "text/x-python",
   "name": "python",
   "nbconvert_exporter": "python",
   "pygments_lexer": "ipython3",
   "version": "3.6.9"
  },
  "widgets": {
   "application/vnd.jupyter.widget-state+json": {
    "state": {},
    "version_major": 2,
    "version_minor": 0
   }
  }
 },
 "nbformat": 4,
 "nbformat_minor": 2
}
